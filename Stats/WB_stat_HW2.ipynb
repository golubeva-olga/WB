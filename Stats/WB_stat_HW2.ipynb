{
 "cells": [
  {
   "cell_type": "code",
   "execution_count": 316,
   "id": "996534cc-12a4-4ad4-b6a6-d4cc82af8931",
   "metadata": {},
   "outputs": [],
   "source": [
    "import numpy as np\n",
    "from scipy import stats\n",
    "import matplotlib.pyplot as plt\n",
    "import seaborn as sns"
   ]
  },
  {
   "cell_type": "markdown",
   "id": "5d247fdb-0cfc-4f35-84ae-78956ad4114c",
   "metadata": {},
   "source": [
    "# Задача 1\n",
    "Из партии батареек с номинальным напряжением 12 В наугад выбрано семь штук. Согласно показаниям высокоточного вольтметра, фактически выдаваемое ими напряжение составило: 12,9; 11,6; 13,5; 13,9; 12,1; 11,9; 13,0 В соответственно. Можно ли считать, что среднее напряжение действительно равно 12 В?"
   ]
  },
  {
   "cell_type": "code",
   "execution_count": 166,
   "id": "31e42848-4e28-4f8d-bb9e-9896ec6740ac",
   "metadata": {},
   "outputs": [],
   "source": [
    "Voltmetr = [12.9, 11.6, 13.5, 13.9, 12.1, 11.9, 13.0]\n",
    "M = 12"
   ]
  },
  {
   "cell_type": "code",
   "execution_count": 168,
   "id": "86065a2b-9332-4af8-bc36-0ae31deb9864",
   "metadata": {},
   "outputs": [
    {
     "data": {
      "text/plain": [
       "ShapiroResult(statistic=0.9461528332649153, pvalue=0.6946012511014426)"
      ]
     },
     "execution_count": 168,
     "metadata": {},
     "output_type": "execute_result"
    }
   ],
   "source": [
    "stats.shapiro(Voltmetr) "
   ]
  },
  {
   "cell_type": "markdown",
   "id": "0c45d9af-a51b-4550-878b-32dc76d73d2f",
   "metadata": {},
   "source": [
    "Распределение нормальное"
   ]
  },
  {
   "cell_type": "markdown",
   "id": "55b2e90e-7d4f-427c-80a2-7b89fb340e20",
   "metadata": {},
   "source": [
    "H0  - среднее напряжение равно 12B,  \n",
    "H1 - среднее напряжение  не равно 12В  \n",
    "критерий Стюдента двухсторонний"
   ]
  },
  {
   "cell_type": "code",
   "execution_count": 279,
   "id": "55bc8bd7-f557-46a8-a3b0-c450df1702c6",
   "metadata": {},
   "outputs": [
    {
     "name": "stdout",
     "output_type": "stream",
     "text": [
      "T statistic: 2.1578017974978794 p-value: 0.07430190210562304\n"
     ]
    }
   ],
   "source": [
    "# решение кодом\n",
    "_mean  =  np.sum(Voltmetr)/ len(Voltmetr)\n",
    "D =  np.sum((Voltmetr - x_mean)**2)/ len(Voltmetr)\n",
    "T = ((x_mean  - M) * ((len(Voltmetr) -1)**0.5))/(D**0.5)\n",
    "student = stats.t((len(Voltmetr) -1))\n",
    "\n",
    "P = min( 2 * (1 - student.cdf(T)), 2* student.cdf(T))\n",
    "print('T statistic:', T, 'p-value:', P)"
   ]
  },
  {
   "cell_type": "code",
   "execution_count": 282,
   "id": "1d576e2c-4f0e-41b2-9dda-8f7409a8c44d",
   "metadata": {},
   "outputs": [
    {
     "name": "stdout",
     "output_type": "stream",
     "text": [
      "T statistic: 2.1578017974978794\n",
      "P-value: 0.07430190210562303\n"
     ]
    }
   ],
   "source": [
    "#библиотекой\n",
    "t_stat, p_value = stats.ttest_1samp(Voltmetr, M)\n",
    "\n",
    "print(\"T statistic:\", t_stat)\n",
    "print(\"P-value:\", p_value)"
   ]
  },
  {
   "cell_type": "markdown",
   "id": "011e25f2-360f-4291-9f51-6a81c6272c9a",
   "metadata": {},
   "source": [
    "p-value  = 0.07 -> При уровне значимости 0.05  не достаточно оснований, чтобы отвергнуть нулевую гипотезу о равенстве среднего напряжения  12 B. Однако результата близок к пограничному и можно посоветовать один раз увеличить выборку и провести повторный эксперимент. "
   ]
  },
  {
   "cell_type": "markdown",
   "id": "0a174c67-4b8b-4f1a-b22a-47b21216120d",
   "metadata": {},
   "source": [
    "# Задача 2\n",
    "Есть два различных метода определения процентного содержания жира в мясе. Доля жира для 10 образцов мяса была определена каждым из двух методов. Позволяют ли полученные результаты сделать вывод о том, что один метод даёт в среднем более высокие показания, чем другой?"
   ]
  },
  {
   "cell_type": "markdown",
   "id": "06fec890-b53b-4c4a-a094-5f2cad2d8d53",
   "metadata": {},
   "source": [
    "Нулевая гипотеза - средняя разность = 0,  \n",
    "Альтернативная не равна 0,   \n",
    "Критерий стьюдента для парных выборок"
   ]
  },
  {
   "cell_type": "code",
   "execution_count": 284,
   "id": "e887d9dd-a014-4a49-a60d-dbb4d511f262",
   "metadata": {},
   "outputs": [],
   "source": [
    "method_1 = [23.1, 23.2, 26.5, 26.6, 27.1, 48.3, 40.5, 25.0, 38.4, 23.5]\n",
    "method_2 = [22.7, 23.6, 27.1, 27.4, 27.4, 46.8, 40.4, 24.9, 38.1, 23.8]"
   ]
  },
  {
   "cell_type": "code",
   "execution_count": 288,
   "id": "ef4ff5b1-1d7c-45e1-89de-d3f6a829e77e",
   "metadata": {},
   "outputs": [
    {
     "name": "stdout",
     "output_type": "stream",
     "text": [
      "30.22 30.220000000000006\n"
     ]
    }
   ],
   "source": [
    "print(np.mean(method_1 ), np.mean(method_2 ))"
   ]
  },
  {
   "cell_type": "code",
   "execution_count": 185,
   "id": "e9777d31-c550-4d8f-987c-85fd4c0595bc",
   "metadata": {},
   "outputs": [],
   "source": [
    "D =  np.array(method_1) -  np.array( method_2)"
   ]
  },
  {
   "cell_type": "code",
   "execution_count": 249,
   "id": "7ef03e15-85ca-403d-9efb-3b477ce930c7",
   "metadata": {},
   "outputs": [
    {
     "data": {
      "image/png": "[encoded data removed]",
      "text/plain": [
       "<Figure size 640x480 with 1 Axes>"
      ]
     },
     "metadata": {},
     "output_type": "display_data"
    }
   ],
   "source": [
    "plt.hist(D, bins=20, color='skyblue', edgecolor='black', alpha=0.7);"
   ]
  },
  {
   "cell_type": "code",
   "execution_count": 158,
   "id": "77722af7-daa7-422c-b829-6a078150e13d",
   "metadata": {},
   "outputs": [
    {
     "data": {
      "text/plain": [
       "ShapiroResult(statistic=0.8998483579792755, pvalue=0.21825780478589868)"
      ]
     },
     "execution_count": 158,
     "metadata": {},
     "output_type": "execute_result"
    }
   ],
   "source": [
    "stats.shapiro(D) "
   ]
  },
  {
   "cell_type": "markdown",
   "id": "d9c61c8a-2f8d-4665-ae39-b106c1404aba",
   "metadata": {},
   "source": [
    "Распределение нормальное"
   ]
  },
  {
   "cell_type": "code",
   "execution_count": 271,
   "id": "bc9819ee-8138-4177-a773-fe2f323d3cbc",
   "metadata": {},
   "outputs": [],
   "source": [
    "#кодом\n",
    "D_mean = np.sum(D) / len(D)\n",
    "S =  (np.sum((D - D_mean)**2) / len(D)) **0.5\n",
    "T = D_mean *(len(D) - 1)**0.5 / S\n",
    "student = stats.t(len(D -1))\n",
    "P = min( 2 * (1 - student.cdf(T)), 2* student.cdf(T))"
   ]
  },
  {
   "cell_type": "code",
   "execution_count": 268,
   "id": "4af20260-78d2-4a0b-9330-432f38560656",
   "metadata": {},
   "outputs": [
    {
     "data": {
      "text/plain": [
       "(1.715488497867803e-15, 0.9999999999999987)"
      ]
     },
     "execution_count": 268,
     "metadata": {},
     "output_type": "execute_result"
    }
   ],
   "source": [
    "T, P"
   ]
  },
  {
   "cell_type": "code",
   "execution_count": 273,
   "id": "d7f9c8fd-8404-4504-a515-29ba92194f63",
   "metadata": {},
   "outputs": [],
   "source": [
    "#библиотекой\n",
    "res = stats.ttest_rel(method_1, method_2) "
   ]
  },
  {
   "cell_type": "code",
   "execution_count": 258,
   "id": "adc480d1-bd24-42e9-8a62-6b41c1702c8a",
   "metadata": {},
   "outputs": [
    {
     "data": {
      "text/plain": [
       "TtestResult(statistic=1.7154884978678027e-15, pvalue=0.9999999999999987, df=9)"
      ]
     },
     "execution_count": 258,
     "metadata": {},
     "output_type": "execute_result"
    }
   ],
   "source": [
    "res"
   ]
  },
  {
   "cell_type": "code",
   "execution_count": 235,
   "id": "c299552a-424f-45f1-8141-b5af3a69cf71",
   "metadata": {},
   "outputs": [
    {
     "data": {
      "text/plain": [
       "0.9999999999999987"
      ]
     },
     "execution_count": 235,
     "metadata": {},
     "output_type": "execute_result"
    }
   ],
   "source": [
    "res.pvalue"
   ]
  },
  {
   "cell_type": "markdown",
   "id": "623ea9e7-309c-461a-a4a6-c3ec84271fab",
   "metadata": {},
   "source": [
    "pvalue = 1, что значит, что у нас нет оснований отвергнуть нулевую гипотезу о равенстве средних измеренных двумя методами.  Другими словами - статистически значимых различий между методами не обнаружено"
   ]
  },
  {
   "cell_type": "markdown",
   "id": "01a3c4ed-bb4d-4f52-a6ce-d231ae7db8e9",
   "metadata": {},
   "source": [
    "# Задача 3\n",
    "Для проверки гипотезы о том, что жители городов имеют в среднем более высокое систолическое артериальное давление, чем жители сельской местности, было проведено обследование 10 горожан и 9 жителей села примерно одного возраста. Получены следующие данные об уровне давления для горожан: 132, 111, 119, 138, 200, 131, 138, 170, 159, 140; для селян: 115, 190, 127, 155, 148, 121, 116, 121, 197. Можно ли считать верной выдвинутую гипотезу на уровне значимости 0,05?\n",
    "\n"
   ]
  },
  {
   "cell_type": "code",
   "execution_count": 111,
   "id": "cfd61168-6a24-48a3-b4f8-fcab7f745f0e",
   "metadata": {},
   "outputs": [],
   "source": [
    "city = [132, 111, 119, 138, 200, 131, 138, 170, 159, 140]\n",
    "country = [115, 190, 127, 155, 148, 121, 116, 121, 197]"
   ]
  },
  {
   "cell_type": "code",
   "execution_count": 296,
   "id": "672671d0-ae74-4e49-8d6d-fff56e2d29dd",
   "metadata": {
    "scrolled": true
   },
   "outputs": [
    {
     "data": {
      "image/png": "[encoded data removed]",
      "text/plain": [
       "<Figure size 640x480 with 1 Axes>"
      ]
     },
     "metadata": {},
     "output_type": "display_data"
    }
   ],
   "source": [
    "plt.hist(city, bins=5, color='skyblue', edgecolor='black', alpha=0.7);\n",
    "plt.hist(country, bins=5, color='red', edgecolor='black', alpha=0.7);"
   ]
  },
  {
   "cell_type": "code",
   "execution_count": 160,
   "id": "2b6a6479-a6e8-45ef-b2b5-c9d7d5031b64",
   "metadata": {},
   "outputs": [
    {
     "data": {
      "text/plain": [
       "ShapiroResult(statistic=0.9100654196723891, pvalue=0.28144068693781604)"
      ]
     },
     "execution_count": 160,
     "metadata": {},
     "output_type": "execute_result"
    }
   ],
   "source": [
    "stats.shapiro(city) "
   ]
  },
  {
   "cell_type": "code",
   "execution_count": 312,
   "id": "6e1ee336-66fe-4670-8041-284dff08a698",
   "metadata": {},
   "outputs": [
    {
     "data": {
      "text/plain": [
       "ShapiroResult(statistic=0.8286640993349572, pvalue=0.04313951145476055)"
      ]
     },
     "execution_count": 312,
     "metadata": {},
     "output_type": "execute_result"
    }
   ],
   "source": [
    "stats.shapiro(country) "
   ]
  },
  {
   "cell_type": "markdown",
   "id": "52154526-5210-4ba1-8199-d0748bf1b61e",
   "metadata": {},
   "source": [
    "Распределение для селян не прошло тест на нормальность и выборка не достаточно большая, чтобы использовать ЦПТ значит лучше использовать тест Манна-Уитни."
   ]
  },
  {
   "cell_type": "code",
   "execution_count": 306,
   "id": "fb3d4fc4-0ec3-46ce-b1be-0881dc99d5cf",
   "metadata": {},
   "outputs": [
    {
     "data": {
      "text/plain": [
       "(143.33333333333334, 29.870089089626468)"
      ]
     },
     "execution_count": 306,
     "metadata": {},
     "output_type": "execute_result"
    }
   ],
   "source": [
    "np.mean(country), np.std(country), "
   ]
  },
  {
   "cell_type": "code",
   "execution_count": 304,
   "id": "23ec720e-17e3-449c-b296-ab20c682d325",
   "metadata": {},
   "outputs": [
    {
     "data": {
      "text/plain": [
       "(143.8, 24.80241923684059)"
      ]
     },
     "execution_count": 304,
     "metadata": {},
     "output_type": "execute_result"
    }
   ],
   "source": [
    "np.mean(city), np.std(city), "
   ]
  },
  {
   "cell_type": "markdown",
   "id": "814658f8-7284-4a89-b6fd-d7e84289fb12",
   "metadata": {},
   "source": [
    "stats.mannwhitneyu(city, country)"
   ]
  },
  {
   "cell_type": "markdown",
   "id": "9dced5f2-20e1-4162-976c-4903fe2481fc",
   "metadata": {},
   "source": [
    "pvalue = 0.71  -> у нас недостаточно оснований отклонить нулевую гипотезу о равенстве давлений на уровне значимости 0.05. Иными словами статистически значимой разницы между систолическим артериальным давлением горожан и селян не обнаружено. "
   ]
  },
  {
   "cell_type": "markdown",
   "id": "53beed19-d6cd-4e25-be1e-4ac3cf548dfe",
   "metadata": {},
   "source": [
    "# Задача 4\n",
    "Известно, что 52% новорождённых детей — мальчики, а 48% — девочки. В случайной выборке из 5 000 человек в возрасте от 30 до 60 лет мужчин оказалось 2 500. Можно ли на уровне значимости 0,05 считать, основываясь на этих данных, что смертность среди мужчин и женщин одинакова?"
   ]
  },
  {
   "cell_type": "markdown",
   "id": "765a004a-de01-4615-b3d6-4d581c5952d8",
   "metadata": {},
   "source": [
    "H0: вероятность встретить мужчину в выборке от 30 до 60 лет  0.52 (такая же как и среди новорожденных) \n",
    "H1:  p != 0.52\n",
    "распределение биноминальное, тест биноминальный\n"
   ]
  },
  {
   "cell_type": "code",
   "execution_count": 656,
   "id": "b861c084-f6cd-4dc7-8c80-254416424519",
   "metadata": {},
   "outputs": [],
   "source": [
    "n = 5000\n",
    "k = 2500\n",
    "p = 0.52"
   ]
  },
  {
   "cell_type": "code",
   "execution_count": 658,
   "id": "19b7abfe-4ced-4adb-857f-1afbc4ab730c",
   "metadata": {},
   "outputs": [
    {
     "data": {
      "text/plain": [
       "BinomTestResult(k=2500, n=5000, alternative='two-sided', statistic=0.5, pvalue=0.004849502159545252)"
      ]
     },
     "execution_count": 658,
     "metadata": {},
     "output_type": "execute_result"
    }
   ],
   "source": [
    "stats.binomtest(k, n, p)"
   ]
  },
  {
   "cell_type": "markdown",
   "id": "9faeafbc-c348-4c46-96b1-7fa6ccc08b8c",
   "metadata": {},
   "source": [
    "pvalue = 0.005 -> у нас достаточно оснований, чтобы отклонить нулевую гипотезу на уровне значимости 0.05 и принять альтернативную, что процент мужчин в выборке 30 - 60 не равен 0.52, что может означать разный уровень смертности среди мужчин и женщин. (однако я бы не делала однозначный вывод, ведь могут существовать и другие факторы повлиявшие на изменения процентного соотношения мужчин и женщин.  Например, вдруг мужчины чаще уезжают жить заграницу и поэтому не попадают в выборку, или реже чем женщины участвуют в опросах)"
   ]
  },
  {
   "cell_type": "markdown",
   "id": "0097b214-2116-4004-bd91-e7b79d502c69",
   "metadata": {},
   "source": [
    "# Задача 5\n",
    "\n",
    "В первом эксперименте для сравнения двух средних X1=17, X2=16 применялся t-критерий Стьюдента, и эти различия оказались значимы (p = 0, 001).\n",
    "Во втором исследовании, также при помощи t - критерия, сравнивались два средних X1=17, X2=36, и эти различия не значимы при p = 0,8. \n",
    "В чем может быть причина таких результатов, при условии, что нулевая и альтернативная гипотезы в обоих случаях одинаковы?"
   ]
  },
  {
   "cell_type": "markdown",
   "id": "35af5e9e-ec4b-44c5-9ece-dc8ed0be9214",
   "metadata": {},
   "source": [
    "1) разный размер выборок в первом и втором случае (в первом больше)\n",
    "2) разная  дисперсия в первом и втором случае (во втором больше)\n",
    "см примеры ниже\n",
    "3) может быть задан разный уровень значимости\n",
    "4) возможно во втором случае были выбросы"
   ]
  },
  {
   "cell_type": "code",
   "execution_count": 606,
   "id": "df1a81ea-f101-416e-8e8f-ce388b0f6fd5",
   "metadata": {},
   "outputs": [],
   "source": [
    "n = 800"
   ]
  },
  {
   "cell_type": "code",
   "execution_count": 608,
   "id": "a61fbb4b-4319-4bd0-ba6c-8fc17cbbfecd",
   "metadata": {},
   "outputs": [],
   "source": [
    "data_1 = np.random.normal(loc= 17, scale= 10, size=n)"
   ]
  },
  {
   "cell_type": "code",
   "execution_count": 610,
   "id": "01c02433-b42a-4f40-bf91-9196ffc4e806",
   "metadata": {},
   "outputs": [],
   "source": [
    "data_2 = np.random.normal(loc= 16, scale= 10, size=n)"
   ]
  },
  {
   "cell_type": "code",
   "execution_count": 612,
   "id": "1f6e815f-96df-4cc7-831a-898e73f28104",
   "metadata": {},
   "outputs": [
    {
     "data": {
      "text/plain": [
       "TtestResult(statistic=2.9540350730097864, pvalue=0.0031823413442464673, df=1598.0)"
      ]
     },
     "execution_count": 612,
     "metadata": {},
     "output_type": "execute_result"
    }
   ],
   "source": [
    "stats.ttest_ind(data_1, data_2) "
   ]
  },
  {
   "cell_type": "code",
   "execution_count": 614,
   "id": "b4373a02-c660-4551-bb1a-c8df04da40f0",
   "metadata": {},
   "outputs": [],
   "source": [
    "data_3 = np.random.normal(loc= 17, scale= 250, size=n)"
   ]
  },
  {
   "cell_type": "code",
   "execution_count": 616,
   "id": "5e28dfbb-1357-4896-8821-cab58c5d8f67",
   "metadata": {},
   "outputs": [],
   "source": [
    "data_4 = np.random.normal(loc= 36, scale= 250, size=n)"
   ]
  },
  {
   "cell_type": "code",
   "execution_count": 618,
   "id": "d8d6b4f9-9456-4969-8080-32173ab7fdce",
   "metadata": {},
   "outputs": [
    {
     "data": {
      "text/plain": [
       "TtestResult(statistic=-1.1339306106609144, pvalue=0.2569937335323842, df=1598.0)"
      ]
     },
     "execution_count": 618,
     "metadata": {},
     "output_type": "execute_result"
    }
   ],
   "source": [
    "stats.ttest_ind(data_3, data_4) "
   ]
  },
  {
   "cell_type": "code",
   "execution_count": 636,
   "id": "a4814dc1-af5e-458f-a50a-79b1ef9c9a1b",
   "metadata": {},
   "outputs": [],
   "source": [
    "n = 5"
   ]
  },
  {
   "cell_type": "code",
   "execution_count": 638,
   "id": "9b7510f5-2fee-40cb-b9f2-d4340846488e",
   "metadata": {},
   "outputs": [],
   "source": [
    "data_3 = np.random.normal(loc= 17, scale= 10, size=n)"
   ]
  },
  {
   "cell_type": "code",
   "execution_count": 640,
   "id": "00e3d38b-4f95-475d-aa00-1635c02049ce",
   "metadata": {},
   "outputs": [],
   "source": [
    "data_4 = np.random.normal(loc= 36, scale= 10, size=n)"
   ]
  },
  {
   "cell_type": "code",
   "execution_count": 642,
   "id": "bb102fae-c659-45e2-9e91-d27e33458903",
   "metadata": {},
   "outputs": [
    {
     "data": {
      "text/plain": [
       "TtestResult(statistic=-1.9669650632113473, pvalue=0.08474049379339663, df=8.0)"
      ]
     },
     "execution_count": 642,
     "metadata": {},
     "output_type": "execute_result"
    }
   ],
   "source": [
    "stats.ttest_ind(data_3, data_4) "
   ]
  },
  {
   "cell_type": "code",
   "execution_count": null,
   "id": "10d1ae2d-cdfc-44ac-85c2-dfdee9c3c000",
   "metadata": {},
   "outputs": [],
   "source": []
  }
 ],
 "metadata": {
  "kernelspec": {
   "display_name": "Python 3 (ipykernel)",
   "language": "python",
   "name": "python3"
  },
  "language_info": {
   "codemirror_mode": {
    "name": "ipython",
    "version": 3
   },
   "file_extension": ".py",
   "mimetype": "text/x-python",
   "name": "python",
   "nbconvert_exporter": "python",
   "pygments_lexer": "ipython3",
   "version": "3.12.4"
  }
 },
 "nbformat": 4,
 "nbformat_minor": 5
}
