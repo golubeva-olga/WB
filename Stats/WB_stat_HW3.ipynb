{
 "cells": [
  {
   "cell_type": "markdown",
   "id": "75884e51-f99d-4643-91cf-8cef607ab5fb",
   "metadata": {},
   "source": [
    "# Условие"
   ]
  },
  {
   "cell_type": "markdown",
   "id": "007772f8-24c8-4500-8bb7-60da622b3587",
   "metadata": {},
   "source": [
    "Представьте, что вы работаете аналитиком в очень крупной компании по доставке пиццы над приложением для курьеров (да, обычно в таких компаниях есть приложение для курьеров и отдельно приложение для потребителей).\n",
    "\n",
    "У вас есть несколько ресторанов в разных частях города и целый штат курьеров. Но есть одна проблема — к вечеру скорость доставки падает из-за того, что курьеры уходят домой после рабочего дня, а количество заказов лишь растет. Это приводит к тому, что в момент пересмены наша доставка очень сильно проседает в эффективности.\n",
    "\n",
    "Наши data scientist-ы придумали новый алгоритм, который позволяет курьерам запланировать свои последние заказы перед окончанием рабочего дня так, чтобы их маршрут доставки совпадал с маршрутом до дома. То есть, чтобы курьеры доставляли последние свои заказы за день как бы \"по пути\" домой.\n",
    "\n",
    "Вы вместе с командой решили раскатить A/B тест на две равные группы курьеров. Часть курьеров использует старый алгоритм без опции \"по пути\", другие видят в своем приложении эту опцию и могут ее выбрать. Ваша задача – проанализировать данные эксперимента и помочь бизнесу принять решение о раскатке новой фичи на всех курьеров"
   ]
  },
  {
   "cell_type": "markdown",
   "id": "bba7c79b-97de-428e-883b-02c7c06dac53",
   "metadata": {},
   "source": [
    "# Библиотеки"
   ]
  },
  {
   "cell_type": "code",
   "execution_count": 132,
   "id": "8b2d0da9-589b-4f62-b33b-8777c8c76047",
   "metadata": {},
   "outputs": [],
   "source": [
    "import pandas as pd\n",
    "from scipy import stats\n",
    "import numpy as np\n",
    "import pingouin"
   ]
  },
  {
   "cell_type": "markdown",
   "id": "79f41933-a65d-49f4-810b-7600977a5169",
   "metadata": {},
   "source": [
    "# Анализ"
   ]
  },
  {
   "cell_type": "markdown",
   "id": "9f522763-bcc9-45a5-9237-fbf7207beada",
   "metadata": {},
   "source": [
    "## Подгрузка и анализ данных"
   ]
  },
  {
   "cell_type": "code",
   "execution_count": 234,
   "id": "d7eecb92-b45b-45a8-b8c8-6ec41a61342e",
   "metadata": {},
   "outputs": [],
   "source": [
    "ann = pd.read_csv('experiment_lesson_4.csv', index_col =0  )"
   ]
  },
  {
   "cell_type": "code",
   "execution_count": 46,
   "id": "daf42924-a43e-4f7f-95fd-c0aa5ef5c211",
   "metadata": {},
   "outputs": [
    {
     "data": {
      "text/plain": [
       "delivery_time       0\n",
       "district            0\n",
       "experiment_group    0\n",
       "dtype: int64"
      ]
     },
     "execution_count": 46,
     "metadata": {},
     "output_type": "execute_result"
    }
   ],
   "source": [
    "ann.isna().sum()"
   ]
  },
  {
   "cell_type": "code",
   "execution_count": 64,
   "id": "427311e5-97e1-4663-9a13-6a513227bdd2",
   "metadata": {},
   "outputs": [
    {
     "data": {
      "text/plain": [
       "delivery_time       0\n",
       "district            0\n",
       "experiment_group    0\n",
       "dtype: int64"
      ]
     },
     "execution_count": 64,
     "metadata": {},
     "output_type": "execute_result"
    }
   ],
   "source": [
    "(ann == '' ) .sum()"
   ]
  },
  {
   "cell_type": "code",
   "execution_count": 66,
   "id": "c89156fc-95ae-4080-b0cb-db49ce356af2",
   "metadata": {},
   "outputs": [
    {
     "data": {
      "text/plain": [
       "delivery_time       0\n",
       "district            0\n",
       "experiment_group    0\n",
       "dtype: int64"
      ]
     },
     "execution_count": 66,
     "metadata": {},
     "output_type": "execute_result"
    }
   ],
   "source": [
    "(ann == ' ' ) .sum()"
   ]
  },
  {
   "cell_type": "code",
   "execution_count": 52,
   "id": "b7e9c648-ef20-4461-8f24-00f235a4fa67",
   "metadata": {},
   "outputs": [
    {
     "data": {
      "text/plain": [
       "array(['control', 'test'], dtype=object)"
      ]
     },
     "execution_count": 52,
     "metadata": {},
     "output_type": "execute_result"
    }
   ],
   "source": [
    "ann.experiment_group.unique()"
   ]
  },
  {
   "cell_type": "code",
   "execution_count": 50,
   "id": "597ad34e-99ee-4b7a-bb5d-a5ff659d25e6",
   "metadata": {},
   "outputs": [
    {
     "data": {
      "text/plain": [
       "array(['Purlieus', 'Central', 'Suburb'], dtype=object)"
      ]
     },
     "execution_count": 50,
     "metadata": {},
     "output_type": "execute_result"
    }
   ],
   "source": [
    "ann.district.unique()"
   ]
  },
  {
   "cell_type": "code",
   "execution_count": 16,
   "id": "d63a333b-d19f-4bf7-b91e-82b559b1797c",
   "metadata": {},
   "outputs": [
    {
     "data": {
      "text/html": [
       "<div>\n",
       "<style scoped>\n",
       "    .dataframe tbody tr th:only-of-type {\n",
       "        vertical-align: middle;\n",
       "    }\n",
       "\n",
       "    .dataframe tbody tr th {\n",
       "        vertical-align: top;\n",
       "    }\n",
       "\n",
       "    .dataframe thead th {\n",
       "        text-align: right;\n",
       "    }\n",
       "</style>\n",
       "<table border=\"1\" class=\"dataframe\">\n",
       "  <thead>\n",
       "    <tr style=\"text-align: right;\">\n",
       "      <th></th>\n",
       "      <th>delivery_time</th>\n",
       "      <th>district</th>\n",
       "      <th>experiment_group</th>\n",
       "    </tr>\n",
       "    <tr>\n",
       "      <th>order_id</th>\n",
       "      <th></th>\n",
       "      <th></th>\n",
       "      <th></th>\n",
       "    </tr>\n",
       "  </thead>\n",
       "  <tbody>\n",
       "    <tr>\n",
       "      <th>3159</th>\n",
       "      <td>44.0</td>\n",
       "      <td>Purlieus</td>\n",
       "      <td>control</td>\n",
       "    </tr>\n",
       "    <tr>\n",
       "      <th>10426</th>\n",
       "      <td>51.0</td>\n",
       "      <td>Purlieus</td>\n",
       "      <td>control</td>\n",
       "    </tr>\n",
       "    <tr>\n",
       "      <th>9155</th>\n",
       "      <td>46.0</td>\n",
       "      <td>Purlieus</td>\n",
       "      <td>control</td>\n",
       "    </tr>\n",
       "    <tr>\n",
       "      <th>10699</th>\n",
       "      <td>34.0</td>\n",
       "      <td>Purlieus</td>\n",
       "      <td>control</td>\n",
       "    </tr>\n",
       "    <tr>\n",
       "      <th>10061</th>\n",
       "      <td>43.0</td>\n",
       "      <td>Purlieus</td>\n",
       "      <td>control</td>\n",
       "    </tr>\n",
       "  </tbody>\n",
       "</table>\n",
       "</div>"
      ],
      "text/plain": [
       "          delivery_time  district experiment_group\n",
       "order_id                                          \n",
       "3159               44.0  Purlieus          control\n",
       "10426              51.0  Purlieus          control\n",
       "9155               46.0  Purlieus          control\n",
       "10699              34.0  Purlieus          control\n",
       "10061              43.0  Purlieus          control"
      ]
     },
     "execution_count": 16,
     "metadata": {},
     "output_type": "execute_result"
    }
   ],
   "source": [
    "ann.head(5)"
   ]
  },
  {
   "cell_type": "code",
   "execution_count": 18,
   "id": "d0037765-df44-4b88-bf0a-0683042bbd86",
   "metadata": {},
   "outputs": [
    {
     "data": {
      "text/plain": [
       "array(['control', 'test'], dtype=object)"
      ]
     },
     "execution_count": 18,
     "metadata": {},
     "output_type": "execute_result"
    }
   ],
   "source": [
    "ann.experiment_group.unique()"
   ]
  },
  {
   "cell_type": "code",
   "execution_count": 36,
   "id": "6b73079d-dabc-4b13-ba68-07a651283002",
   "metadata": {},
   "outputs": [
    {
     "data": {
      "text/plain": [
       "experiment_group\n",
       "test       10104\n",
       "control    10092\n",
       "Name: count, dtype: int64"
      ]
     },
     "execution_count": 36,
     "metadata": {},
     "output_type": "execute_result"
    }
   ],
   "source": [
    "ann.experiment_group.value_counts()"
   ]
  },
  {
   "cell_type": "markdown",
   "id": "8eaac79e-21fe-4ae8-a993-808e360c0a5c",
   "metadata": {},
   "source": [
    "##  Шаги из гугл формы"
   ]
  },
  {
   "cell_type": "code",
   "execution_count": 26,
   "id": "ef992a86-c020-49c2-9e3d-18c2c3b440c3",
   "metadata": {},
   "outputs": [
    {
     "data": {
      "text/plain": [
       "<Axes: >"
      ]
     },
     "execution_count": 26,
     "metadata": {},
     "output_type": "execute_result"
    },
    {
     "data": {
      "image/png": "[encoded data removed]",
      "text/plain": [
       "<Figure size 640x480 with 1 Axes>"
      ]
     },
     "metadata": {},
     "output_type": "display_data"
    }
   ],
   "source": [
    "ann[ann.experiment_group == 'control']['delivery_time'].hist(bins = 35)"
   ]
  },
  {
   "cell_type": "code",
   "execution_count": 34,
   "id": "72dc58fd-546e-4258-9c37-e86373d103ea",
   "metadata": {
    "scrolled": true
   },
   "outputs": [
    {
     "data": {
      "text/plain": [
       "<Axes: >"
      ]
     },
     "execution_count": 34,
     "metadata": {},
     "output_type": "execute_result"
    },
    {
     "data": {
      "image/png": "[encoded data removed]",
      "text/plain": [
       "<Figure size 640x480 with 1 Axes>"
      ]
     },
     "metadata": {},
     "output_type": "display_data"
    }
   ],
   "source": [
    "ann[ann.experiment_group == 'test']['delivery_time'].hist(bins = 35)"
   ]
  },
  {
   "cell_type": "code",
   "execution_count": 32,
   "id": "e84d16aa-96c1-4e50-8991-5d82d33c1539",
   "metadata": {},
   "outputs": [
    {
     "data": {
      "text/plain": [
       "<Axes: >"
      ]
     },
     "execution_count": 32,
     "metadata": {},
     "output_type": "execute_result"
    },
    {
     "data": {
      "image/png": "[encoded data removed]",
      "text/plain": [
       "<Figure size 640x480 with 1 Axes>"
      ]
     },
     "metadata": {},
     "output_type": "display_data"
    }
   ],
   "source": [
    "ann[ann.experiment_group == 'control']['delivery_time'].hist(bins = 35, color = 'red', alpha = 0.5)\n",
    "\n",
    "ann[ann.experiment_group == 'test']['delivery_time'].hist(bins = 35, alpha = 0.5)"
   ]
  },
  {
   "cell_type": "code",
   "execution_count": 249,
   "id": "571c45a8-9998-410b-8aa2-e4579c65add3",
   "metadata": {},
   "outputs": [
    {
     "name": "stdout",
     "output_type": "stream",
     "text": [
      "Разница между контрольной и тестовой группами: 12\n"
     ]
    }
   ],
   "source": [
    "diff = len(ann[ann.experiment_group == 'test']) - len(ann[ann.experiment_group == 'control'])\n",
    "\n",
    "print(f'Разница между контрольной и тестовой группами: {diff}' )"
   ]
  },
  {
   "cell_type": "code",
   "execution_count": 251,
   "id": "0cbfa2d2-1e83-4167-b31b-1f0b2e30b2fd",
   "metadata": {},
   "outputs": [],
   "source": [
    "test_d_time = ann[ann.experiment_group == 'test']['delivery_time']\n",
    "control_d_time = ann[ann.experiment_group == 'control']['delivery_time']"
   ]
  },
  {
   "cell_type": "code",
   "execution_count": 253,
   "id": "7ad89938-9c06-47fb-96a7-276392f080fe",
   "metadata": {},
   "outputs": [
    {
     "data": {
      "text/plain": [
       "NormaltestResult(statistic=7.024157092641915, pvalue=0.02983483685333173)"
      ]
     },
     "execution_count": 253,
     "metadata": {},
     "output_type": "execute_result"
    }
   ],
   "source": [
    "scipy.stats.normaltest(test_d_time, nan_policy= 'omit') "
   ]
  },
  {
   "cell_type": "code",
   "execution_count": 255,
   "id": "c03652b7-b494-40eb-b864-9dbfe1192d8f",
   "metadata": {},
   "outputs": [
    {
     "data": {
      "text/plain": [
       "NormaltestResult(statistic=0.25349755437872584, pvalue=0.8809549607809654)"
      ]
     },
     "execution_count": 255,
     "metadata": {},
     "output_type": "execute_result"
    }
   ],
   "source": [
    "scipy.stats.normaltest(control_d_time, nan_policy= 'omit') "
   ]
  },
  {
   "cell_type": "code",
   "execution_count": 257,
   "id": "fbf2b9aa-9ccb-4931-a076-0d74a2fe1a87",
   "metadata": {},
   "outputs": [
    {
     "data": {
      "text/html": [
       "<div>\n",
       "<style scoped>\n",
       "    .dataframe tbody tr th:only-of-type {\n",
       "        vertical-align: middle;\n",
       "    }\n",
       "\n",
       "    .dataframe tbody tr th {\n",
       "        vertical-align: top;\n",
       "    }\n",
       "\n",
       "    .dataframe thead th {\n",
       "        text-align: right;\n",
       "    }\n",
       "</style>\n",
       "<table border=\"1\" class=\"dataframe\">\n",
       "  <thead>\n",
       "    <tr style=\"text-align: right;\">\n",
       "      <th></th>\n",
       "      <th>W</th>\n",
       "      <th>pval</th>\n",
       "      <th>normal</th>\n",
       "    </tr>\n",
       "  </thead>\n",
       "  <tbody>\n",
       "    <tr>\n",
       "      <th>delivery_time</th>\n",
       "      <td>0.281759</td>\n",
       "      <td>0.868594</td>\n",
       "      <td>True</td>\n",
       "    </tr>\n",
       "  </tbody>\n",
       "</table>\n",
       "</div>"
      ],
      "text/plain": [
       "                      W      pval  normal\n",
       "delivery_time  0.281759  0.868594    True"
      ]
     },
     "execution_count": 257,
     "metadata": {},
     "output_type": "execute_result"
    }
   ],
   "source": [
    "pingouin.normality(control_d_time, method = 'jarque_bera')"
   ]
  },
  {
   "cell_type": "code",
   "execution_count": 259,
   "id": "ce4d02d1-0464-4204-97e9-52bb1d73a53d",
   "metadata": {},
   "outputs": [
    {
     "data": {
      "text/html": [
       "<div>\n",
       "<style scoped>\n",
       "    .dataframe tbody tr th:only-of-type {\n",
       "        vertical-align: middle;\n",
       "    }\n",
       "\n",
       "    .dataframe tbody tr th {\n",
       "        vertical-align: top;\n",
       "    }\n",
       "\n",
       "    .dataframe thead th {\n",
       "        text-align: right;\n",
       "    }\n",
       "</style>\n",
       "<table border=\"1\" class=\"dataframe\">\n",
       "  <thead>\n",
       "    <tr style=\"text-align: right;\">\n",
       "      <th></th>\n",
       "      <th>W</th>\n",
       "      <th>pval</th>\n",
       "      <th>normal</th>\n",
       "    </tr>\n",
       "  </thead>\n",
       "  <tbody>\n",
       "    <tr>\n",
       "      <th>delivery_time</th>\n",
       "      <td>6.929487</td>\n",
       "      <td>0.031281</td>\n",
       "      <td>False</td>\n",
       "    </tr>\n",
       "  </tbody>\n",
       "</table>\n",
       "</div>"
      ],
      "text/plain": [
       "                      W      pval  normal\n",
       "delivery_time  6.929487  0.031281   False"
      ]
     },
     "execution_count": 259,
     "metadata": {},
     "output_type": "execute_result"
    }
   ],
   "source": [
    "pingouin.normality(test_d_time, method = 'jarque_bera')"
   ]
  },
  {
   "cell_type": "code",
   "execution_count": 218,
   "id": "ee8f7a89-3ac5-4b9c-b8dc-ef6f18a77ca5",
   "metadata": {},
   "outputs": [
    {
     "name": "stdout",
     "output_type": "stream",
     "text": [
      "Std тестовая группа: 9.88\n",
      "Среднее тестовая группа: 39.05\n"
     ]
    }
   ],
   "source": [
    "print(f\"Std тестовая группа: {np.std(test_d_time):.2f}\") \n",
    "print(f\"Среднее тестовая группа: {np.mean(test_d_time):.2f}\") "
   ]
  },
  {
   "cell_type": "code",
   "execution_count": 220,
   "id": "8a490a9d-e325-4e83-b7f4-5240a55df058",
   "metadata": {},
   "outputs": [
    {
     "name": "stdout",
     "output_type": "stream",
     "text": [
      "Std контрольная группа: 9.99\n",
      "Среднее контрольная группа: 45.07\n"
     ]
    }
   ],
   "source": [
    "print(f\"Std контрольная группа: {np.std(control_d_time):.2f}\") \n",
    "print(f\"Среднее контрольная группа: {np.mean(control_d_time):.2f}\") "
   ]
  },
  {
   "cell_type": "code",
   "execution_count": 224,
   "id": "99883912-7903-4c0c-b1ba-ea9dccbea7cb",
   "metadata": {},
   "outputs": [
    {
     "name": "stdout",
     "output_type": "stream",
     "text": [
      "Процентное изменение среднего: -13.35%\n"
     ]
    }
   ],
   "source": [
    "percentage_change = ((np.mean(test_d_time)- np.mean(control_d_time)) / np.mean(control_d_time)) * 100\n",
    "print(f\"Процентное изменение среднего: {percentage_change:.2f}%\")"
   ]
  },
  {
   "cell_type": "code",
   "execution_count": 286,
   "id": "506dd1d2-3403-43c2-9bb0-32d48d8da4c6",
   "metadata": {},
   "outputs": [
    {
     "data": {
      "text/plain": [
       "-6.018287926844998"
      ]
     },
     "execution_count": 286,
     "metadata": {},
     "output_type": "execute_result"
    }
   ],
   "source": [
    "(np.mean(test_d_time)- np.mean(control_d_time))"
   ]
  },
  {
   "cell_type": "code",
   "execution_count": 304,
   "id": "25631105-9bc2-4340-b1a9-21815e92e3aa",
   "metadata": {
    "scrolled": true
   },
   "outputs": [],
   "source": [
    "res = stats.ttest_ind(test_d_time, control_d_time)"
   ]
  },
  {
   "cell_type": "code",
   "execution_count": 336,
   "id": "91a93c73-6122-47d1-8962-dc6ae608113b",
   "metadata": {},
   "outputs": [
    {
     "data": {
      "text/plain": [
       "TtestResult(statistic=-43.03582663183714, pvalue=0.0, df=20194.0)"
      ]
     },
     "execution_count": 336,
     "metadata": {},
     "output_type": "execute_result"
    }
   ],
   "source": [
    "res"
   ]
  },
  {
   "cell_type": "code",
   "execution_count": 264,
   "id": "d9db6f64-a0f7-4949-917d-8448bb2bfa94",
   "metadata": {},
   "outputs": [],
   "source": [
    "res = stats.ttest_ind(test_d_time, control_d_time, nan_policy='propagate', alternative='less', equal_var=False,)"
   ]
  },
  {
   "cell_type": "markdown",
   "id": "9a212d86-f4ad-4ac9-ad4e-ad57029138b7",
   "metadata": {},
   "source": [
    "Научный вывод: На основании проведенного A/B-теста с использованием t-критерия для независимых выборок при уровне значимости 0.05 гипотеза о равенстве среднего времени доставки между контрольной и тестовой выборками отвергается.  T statistic=-43, pvalue=0.0. (меньше, чем 10^−16 )    В среднем скорость доставки улучшилась на 13.35% или на 6 минут"
   ]
  },
  {
   "cell_type": "markdown",
   "id": "1d9e2998-4bff-4a04-bfcd-48300aca7955",
   "metadata": {},
   "source": [
    "Вывод без стат терминов: В ходе проведения AB теста были выявлены статистически значимые улучшения скорости доставки в тестовой группе по сравнению с контрольной. В среднем скорость доставки улучшилась на 13.35%  или на 6 минут, что означает, что опцию \"по пути\" с точки зрения скорости доставки можно рассматривать, как успешную и она рекомендуется для добавления в продукт "
   ]
  },
  {
   "cell_type": "code",
   "execution_count": null,
   "id": "7ceb9d9f-49db-48f9-9161-b48f50a90da8",
   "metadata": {},
   "outputs": [],
   "source": []
  }
 ],
 "metadata": {
  "kernelspec": {
   "display_name": "Python 3 (ipykernel)",
   "language": "python",
   "name": "python3"
  },
  "language_info": {
   "codemirror_mode": {
    "name": "ipython",
    "version": 3
   },
   "file_extension": ".py",
   "mimetype": "text/x-python",
   "name": "python",
   "nbconvert_exporter": "python",
   "pygments_lexer": "ipython3",
   "version": "3.12.4"
  }
 },
 "nbformat": 4,
 "nbformat_minor": 5
}
